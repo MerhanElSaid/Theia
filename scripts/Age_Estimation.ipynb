{
  "nbformat": 4,
  "nbformat_minor": 0,
  "metadata": {
    "colab": {
      "name": "Age_Estimation.ipynb",
      "provenance": [],
      "collapsed_sections": []
    },
    "kernelspec": {
      "name": "python3",
      "display_name": "Python 3"
    }
  },
  "cells": [
    {
      "cell_type": "code",
      "metadata": {
        "id": "f214qIoHqgSA",
        "colab_type": "code",
        "colab": {
          "base_uri": "https://localhost:8080/",
          "height": 85
        },
        "outputId": "a514514c-aa98-498c-e0c8-450d5728db52"
      },
      "source": [
        "! export KAGGLE_USERNAME=\"merhan\" && export KAGGLE_KEY=\"de9f258bbdad4348ed345f311c22e02b\" && kaggle datasets download --unzip -d jangedoo/utkface-new\n",
        "! ls\n"
      ],
      "execution_count": 1,
      "outputs": [
        {
          "output_type": "stream",
          "text": [
            "Downloading utkface-new.zip to /content\n",
            " 97% 322M/331M [00:06<00:00, 53.7MB/s]\n",
            "100% 331M/331M [00:06<00:00, 54.6MB/s]\n",
            "crop_part1  sample_data  UTKFace  utkface_aligned_cropped\n"
          ],
          "name": "stdout"
        }
      ]
    },
    {
      "cell_type": "code",
      "metadata": {
        "id": "uzXMmKAesSQe",
        "colab_type": "code",
        "colab": {}
      },
      "source": [
        "import numpy as np\n",
        "import torch\n",
        "import torch.nn as nn\n",
        "import torchvision.transforms as transforms\n",
        "import torch.optim as optim\n",
        "import os\n",
        "import cv2\n",
        "from tqdm import tqdm\n",
        "from skimage import io\n",
        "from PIL import Image"
      ],
      "execution_count": 2,
      "outputs": []
    },
    {
      "cell_type": "code",
      "metadata": {
        "id": "NzuiFls0sYU7",
        "colab_type": "code",
        "colab": {
          "base_uri": "https://localhost:8080/",
          "height": 34
        },
        "outputId": "7e05849d-5e1d-49ff-a26a-19146462b8a8"
      },
      "source": [
        "file_dir = \"/content/UTKFace\"\n",
        "batch_size = 64\n",
        "\n",
        "Y = []\n",
        "for image in tqdm(os.listdir(file_dir)):\n",
        "  img = image.split('_')\n",
        "  Y.append(float(img[0]))\n"
      ],
      "execution_count": 3,
      "outputs": [
        {
          "output_type": "stream",
          "text": [
            "100%|██████████| 23708/23708 [00:00<00:00, 1044325.22it/s]\n"
          ],
          "name": "stderr"
        }
      ]
    },
    {
      "cell_type": "code",
      "metadata": {
        "id": "vA4lGNxJ21OO",
        "colab_type": "code",
        "colab": {}
      },
      "source": [
        " \n",
        "from torch.utils.data import Dataset, TensorDataset\n",
        " \n",
        "class CustomTensorDataset(Dataset):\n",
        "    \"\"\"TensorDataset with support of transforms.\n",
        "    \"\"\"\n",
        "    def __init__(self, root_dir, tensor, transform=None):\n",
        "        self.root_dir = root_dir\n",
        "        self.tensor = tensor\n",
        "        self.transform = transform\n",
        " \n",
        "    def __getitem__(self, index):\n",
        "        files = os.listdir(self.root_dir)\n",
        "        img = files[index]\n",
        "        img_name = os.path.join(self.root_dir, img)\n",
        "        x = Image.open(img_name)\n",
        "        \n",
        "        if self.transform:\n",
        "            x = self.transform(x)\n",
        " \n",
        "        y = self.tensor[index]\n",
        " \n",
        "        return x, y\n",
        " \n",
        "    def __len__(self):\n",
        "        return len(self.tensor)"
      ],
      "execution_count": 4,
      "outputs": []
    },
    {
      "cell_type": "code",
      "metadata": {
        "id": "x6ZmT7AR4n6W",
        "colab_type": "code",
        "colab": {}
      },
      "source": [
        "train_transform = transforms.Compose([transforms.Resize(256),\n",
        "                                transforms.CenterCrop(224),\n",
        "                                transforms.RandomHorizontalFlip(p=0.5),\n",
        "                                transforms.RandomRotation(10),\n",
        "                                transforms.Grayscale(num_output_channels=1),\n",
        "                                transforms.ToTensor(),\n",
        "                                transforms.Normalize([0.485],\n",
        "                                                    [0.229])])\n",
        "\n",
        "test_transform = transforms.Compose([transforms.Resize(256),\n",
        "                                transforms.CenterCrop(224),\n",
        "                                transforms.Grayscale(num_output_channels=1),\n",
        "                                transforms.ToTensor(),\n",
        "                                transforms.Normalize([0.485],\n",
        "                                                    [0.229])])\n"
      ],
      "execution_count": 5,
      "outputs": []
    },
    {
      "cell_type": "code",
      "metadata": {
        "id": "GTYst0fSd_c_",
        "colab_type": "code",
        "colab": {}
      },
      "source": [
        "data = CustomTensorDataset(file_dir, torch.FloatTensor(Y), train_transform)\n",
        "\n",
        "test = int(len(data)*0.2)  \n",
        "valid = int(len(data)*0.1)\n",
        "\n",
        "test_data = torch.utils.data.Subset(data, range(test)) \n",
        "test_data.dataset.transform = test_transform\n",
        "\n",
        "valid_data = torch.utils.data.Subset(data, range(test, test+valid))\n",
        "valid_data.dataset.transform = test_transform\n",
        "\n",
        "train_data = torch.utils.data.Subset(data, range(valid + test, len(data)))\n",
        "\n",
        "train_loader = torch.utils.data.DataLoader(train_data, batch_size, shuffle=True)\n",
        "valid_loader = torch.utils.data.DataLoader(valid_data, batch_size = batch_size)\n",
        "test_loader = torch.utils.data.DataLoader(test_data, batch_size = batch_size)"
      ],
      "execution_count": 6,
      "outputs": []
    },
    {
      "cell_type": "code",
      "metadata": {
        "id": "2pVHNjJ-AHsV",
        "colab_type": "code",
        "colab": {}
      },
      "source": [
        "Loaders ={\n",
        "    'train' : train_loader,\n",
        "    'valid' : valid_loader,\n",
        "    'test' : test_loader\n",
        "}"
      ],
      "execution_count": 7,
      "outputs": []
    },
    {
      "cell_type": "code",
      "metadata": {
        "id": "MFLyXV-j981d",
        "colab_type": "code",
        "colab": {
          "base_uri": "https://localhost:8080/",
          "height": 34
        },
        "outputId": "4bb7ee4a-e0b5-43ac-dfc4-f80705581e2d"
      },
      "source": [
        "print(len(train_data), len(valid_data), len(test_data))"
      ],
      "execution_count": 8,
      "outputs": [
        {
          "output_type": "stream",
          "text": [
            "16597 2370 4741\n"
          ],
          "name": "stdout"
        }
      ]
    },
    {
      "cell_type": "code",
      "metadata": {
        "id": "rUx0enpQ7a4R",
        "colab_type": "code",
        "colab": {
          "base_uri": "https://localhost:8080/",
          "height": 34
        },
        "outputId": "19814f6f-4d5d-418d-cc6d-ea0a52552c47"
      },
      "source": [
        "model_resnet = torch.hub.load('pytorch/vision', 'resnet50', pretrained=True)\n",
        "\n",
        "for name, param in model_resnet.named_parameters():\n",
        "    if(\"bn\" not in name):\n",
        "        param.requires_grad = False\n",
        "num_classes = 116\n",
        "\n",
        "model_resnet.fc = nn.Sequential(nn.Linear(model_resnet.fc.in_features,512), nn.ReLU(), nn.Dropout(), nn.Linear(512, num_classes))\n",
        "\n",
        "train_on_gpu = torch.cuda.is_available()\n",
        "\n",
        "# if GPU is available, move the model to GPU\n",
        "if train_on_gpu:\n",
        "    model_resnet = model_resnet.cuda()\n"
      ],
      "execution_count": 9,
      "outputs": [
        {
          "output_type": "stream",
          "text": [
            "Using cache found in /root/.cache/torch/hub/pytorch_vision_master\n"
          ],
          "name": "stderr"
        }
      ]
    },
    {
      "cell_type": "code",
      "metadata": {
        "id": "58bRnA-x_Zig",
        "colab_type": "code",
        "colab": {}
      },
      "source": [
        "import torch.optim as optim\n",
        "\n",
        "# specify loss function (categorical cross-entropy)\n",
        "criterion = nn.CrossEntropyLoss()\n",
        "\n",
        "# specify optimizer (stochastic gradient descent) and learning rate = 0.001\n",
        "optimizer = optim.Adam(model_resnet.parameters(), lr=0.001)"
      ],
      "execution_count": 10,
      "outputs": []
    },
    {
      "cell_type": "code",
      "metadata": {
        "id": "TfLo0BJf_eck",
        "colab_type": "code",
        "colab": {}
      },
      "source": [
        "def Train(model, n_epochs, optimizer, criterion, Loaders):\n",
        "  for epoch in range(1, n_epochs+1):\n",
        "\n",
        "      # keep track of training and validation loss\n",
        "      train_loss = 0.0\n",
        "      Train_loss = 0.0\n",
        "      ###################\n",
        "      # train the model #\n",
        "      ###################\n",
        "      # model by default is set to train\n",
        "      model.train()\n",
        "      for batch_i, (data, target) in enumerate(Loaders['train']):\n",
        "          # move tensors to GPU if CUDA is available\n",
        "          data = data.repeat(1, 3, 1, 1)\n",
        "          print(data.size())\n",
        "          data, target = data.cuda(), target.cuda()\n",
        "          # clear the gradients of all optimized variables\n",
        "          optimizer.zero_grad()\n",
        "          # forward pass: compute predicted outputs by passing inputs to the model\n",
        "          output = model(data)\n",
        "          # calculate the batch loss\n",
        "          \n",
        "          loss = criterion(output, target.type(torch.cuda.FloatTensor))\n",
        "          # backward pass: compute gradient of the loss with respect to model parameters\n",
        "          loss.backward()\n",
        "          # perform a single optimization step (parameter update)\n",
        "          optimizer.step()\n",
        "          # update training loss \n",
        "          train_loss += loss.item()\n",
        "          \n",
        "          if batch_i % 20 == 19:    # print training loss every specified number of mini-batches\n",
        "              print('Epoch %d, Batch %d loss: %.16f' %\n",
        "                    (epoch, batch_i + 1, train_loss / 20))\n",
        "              Train_loss += train_loss/20\n",
        "              train_loss = 0.0\n",
        "\n",
        "          \n",
        "          #/////////////////////     Validation        \\\\\\\\\\\\\\\\\\\\\\\\\\\\\\\\\\\\\\\n",
        "          \n",
        "      model.eval() # prep model for evaluation\n",
        "      for data, target in Loaders['valid']:\n",
        "          # forward pass: compute predicted outputs by passing inputs to the model\n",
        "          output = model(data)\n",
        "          # calculate the loss\n",
        "          loss = criterion(output, target)\n",
        "          # update running validation loss \n",
        "          valid_loss += loss.item()*data.size(0)\n",
        "\n",
        "\n",
        "      # print training loss per epoch\n",
        "      print('Epoch %d, training loss: %.10f  validation loss : %.10f' %\n",
        "            (epoch, Train_loss, valid_loss))\n",
        "      Train_loss = 0.0\n",
        "      valid_loss = 0.0\n",
        "  return model"
      ],
      "execution_count": 19,
      "outputs": []
    },
    {
      "cell_type": "code",
      "metadata": {
        "id": "slpNQTuGAuPz",
        "colab_type": "code",
        "colab": {}
      },
      "source": [
        "epochs = 10 # Ex\n",
        "model_resnet = Train(model_resnet, epochs, optimizer, criterion, Loaders)"
      ],
      "execution_count": null,
      "outputs": []
    },
    {
      "cell_type": "code",
      "metadata": {
        "id": "TSseeyKKBPii",
        "colab_type": "code",
        "colab": {}
      },
      "source": [
        "#############################     Testing      ###################################\n",
        "def Test(model, Loaders, criterion)\n",
        "  test_loss = 0 \n",
        "  total = 0\n",
        "  correct = 0 \n",
        "  batch =0 \n",
        "  for data, target in test_loader:\n",
        "      # move tensors to GPU if CUDA is available\n",
        "      data = data.repeat(1, 3, 1, 1)\n",
        "      if train_on_gpu:\n",
        "          data, target = data.cuda(), target.cuda()\n",
        "      # forward pass: compute predicted outputs by passing inputs to the model\n",
        "      output = model(data)\n",
        "      # calculate the batch loss\n",
        "      loss = criterion(output, target)\n",
        "      # update  test loss \n",
        "      test_loss += loss.item()\n",
        "      _, predicted = torch.topk(outputs, 1)\n",
        "      total += labels.size(0)\n",
        "      correct += (predicted == labels).sum().item()\n",
        "      batch +=1\n",
        "  # calculate avg test loss\n",
        "  test_loss = test_loss/batch\n",
        "  \n",
        "  \n",
        "  return test_loss, (correct / total)\n"
      ],
      "execution_count": null,
      "outputs": []
    },
    {
      "cell_type": "code",
      "metadata": {
        "id": "qAouGbKdCwo7",
        "colab_type": "code",
        "colab": {}
      },
      "source": [
        "loss, accuracy = Test(model_resnet, Loaders, criterion)\n",
        "print('Test Loss: {:.6f}\\n'.format(loss))\n",
        "print('\\nTest Accuracy (Overall): {:.3f}\\n'.format(accuracy))"
      ],
      "execution_count": null,
      "outputs": []
    },
    {
      "cell_type": "code",
      "metadata": {
        "id": "RcPqczihDLHJ",
        "colab_type": "code",
        "colab": {}
      },
      "source": [
        ""
      ],
      "execution_count": null,
      "outputs": []
    }
  ]
}